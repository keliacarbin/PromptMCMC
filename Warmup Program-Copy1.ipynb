{
 "cells": [
  {
   "cell_type": "code",
   "execution_count": 1,
   "metadata": {},
   "outputs": [],
   "source": [
    "##imports -- run first thing!\n",
    "import numpy as np\n",
    "import scipy as sp\n",
    "from scipy import integrate\n",
    "from scipy import interpolate\n",
    "import pandas as pd\n",
    "import matplotlib.pyplot as plt"
   ]
  },
  {
   "cell_type": "code",
   "execution_count": 2,
   "metadata": {},
   "outputs": [],
   "source": [
    "##clear PT.csv, L_obs.csv, L_obs_Norm.csv before running full program\n",
    "##we're not using them in this rewrite but eehhhhh just to have\n",
    "open('PT.csv', 'w').close()\n",
    "open('L_obs.csv', 'w').close()\n",
    "open('L_obs_Norm.csv', 'w').close()"
   ]
  },
  {
   "cell_type": "code",
   "execution_count": 3,
   "metadata": {},
   "outputs": [
    {
     "name": "stdout",
     "output_type": "stream",
     "text": [
      "minimum Lorentz factor wanted is: 2.6\n",
      "theta max for the given Lorentz Factor is: 14.4\n",
      "[[0.00000000e+00 1.25011950e+03]\n",
      " [1.00000000e+00 2.40782452e+03]\n",
      " [2.00000000e+00 3.09683881e+03]\n",
      " [3.00000000e+00 2.34225756e+03]\n",
      " [4.00000000e+00 2.07542491e+03]\n",
      " [5.00000000e+00 1.64440037e+03]\n",
      " [6.00000000e+00 1.24838015e+03]\n",
      " [7.00000000e+00 9.24490994e+02]\n",
      " [8.00000000e+00 6.64151906e+02]\n",
      " [9.00000000e+00 4.91175543e+02]\n",
      " [1.00000000e+01 3.50007685e+02]\n",
      " [1.10000000e+01 2.11232436e+02]\n",
      " [1.20000000e+01 1.06591893e+02]\n",
      " [1.30000000e+01 5.46433274e+01]\n",
      " [1.40000000e+01 3.11197612e+01]\n",
      " [1.50000000e+01 1.95351727e+01]\n",
      " [1.60000000e+01 1.31727013e+01]\n",
      " [1.70000000e+01 9.34415936e+00]\n",
      " [1.80000000e+01 6.87518959e+00]\n",
      " [1.90000000e+01 5.19772041e+00]\n",
      " [2.00000000e+01 4.01167227e+00]\n",
      " [2.10000000e+01 3.14676722e+00]\n",
      " [2.20000000e+01 2.50054682e+00]\n",
      " [2.30000000e+01 2.00828338e+00]\n",
      " [2.40000000e+01 1.62738406e+00]\n",
      " [2.50000000e+01 1.32884541e+00]\n",
      " [2.60000000e+01 1.09234067e+00]\n",
      " [2.70000000e+01 9.03274169e-01]\n",
      " [2.80000000e+01 7.50948621e-01]\n",
      " [2.90000000e+01 6.27386743e-01]\n",
      " [3.00000000e+01 5.26551339e-01]\n",
      " [3.10000000e+01 4.43815637e-01]\n",
      " [3.20000000e+01 3.75595314e-01]\n",
      " [3.30000000e+01 3.19087630e-01]\n",
      " [3.40000000e+01 2.72083172e-01]\n",
      " [3.50000000e+01 2.32827833e-01]\n",
      " [3.60000000e+01 1.99920211e-01]\n",
      " [3.70000000e+01 1.72234384e-01]\n",
      " [3.80000000e+01 1.48861168e-01]\n",
      " [3.90000000e+01 1.29062993e-01]\n",
      " [4.00000000e+01 1.12238963e-01]]\n"
     ]
    },
    {
     "data": {
      "text/plain": [
       "[<matplotlib.lines.Line2D at 0x2c1df9f8f08>]"
      ]
     },
     "execution_count": 3,
     "metadata": {},
     "output_type": "execute_result"
    },
    {
     "data": {
      "image/png": "[encoded data removed]",
      "text/plain": [
       "<Figure size 432x288 with 1 Axes>"
      ]
     },
     "metadata": {
      "needs_background": "light"
     },
     "output_type": "display_data"
    }
   ],
   "source": [
    "##declares\n",
    "theta_o = 0.0\n",
    "phi = 0.0\n",
    "PT_arr = np.array([])\n",
    "Lo_arr = np.array([])\n",
    "\n",
    "##formula stuff\n",
    "Gtheta = pd.read_csv('GT0.csv', sep = ',', header = None, names = ['theta','gamma'])\n",
    "Ltheta = pd.read_csv('LT0.csv', sep = ',', header = None, names = ['theta','L'])\n",
    "Btheta = np.sqrt(1-(1/((Gtheta['gamma'])**2)))\n",
    "\n",
    "##theta max index calculator\n",
    "inmin = float(input(\"minimum Lorentz factor wanted is: \"))\n",
    "Gadjust = (Gtheta['gamma']-inmin)**2\n",
    "Gmin = np.where(Gadjust == Gadjust.min())\n",
    "GminFar = max(Gmin[0])+1\n",
    "theta_max = (int(GminFar)*0.1)\n",
    "print(\"theta max for the given Lorentz Factor is: \" + str(theta_max))\n",
    "\n",
    "\n",
    "##theta observed selection and phi integral\n",
    "while (theta_o <= (41*np.pi/180)):\n",
    "    ##phi selection and theta integral\n",
    "    while (phi <= 2*np.pi):\n",
    "        cosalph = (np.cos(theta_o)*np.cos(Ltheta['theta'][0:GminFar]*np.pi/180))+(np.sin(theta_o)*np.sin(Ltheta['theta'][0:GminFar]*np.pi/180)*np.cos(phi))\n",
    "        num = Ltheta['L']*np.sin(Ltheta['theta'][0:GminFar]*np.pi/180)\n",
    "        den = 4*np.pi*(Gtheta['gamma'][0:GminFar]**4)*((1-(Btheta*cosalph))**3)\n",
    "        ans = (num/den)\n",
    "        theta_int = sp.integrate.trapz(y = ans[0:GminFar], x = Ltheta['theta'][0:GminFar])\n",
    "        PT_arr_i = np.array([(phi*180.0/np.pi), theta_int])\n",
    "        PT_arr = np.append(PT_arr, PT_arr_i, 0)\n",
    "        phi = phi+2*np.pi/72 #2*np.pi/n, count by 360/n degrees at a time\n",
    "    PT = PT_arr.reshape(73,2) #shape(n rows, 2 columns), n = (phi n + 1) ↓↓ [0:n, a] is the same\n",
    "    phi_int = sp.integrate.trapz(y = (PT[0:73, 1]), x = (PT[0:73,0]))\n",
    "    Lo_arr_i = np.array([(theta_o*180.0/np.pi), phi_int])\n",
    "    Lo_arr = np.append(Lo_arr, Lo_arr_i, 0)    \n",
    "    theta_o = theta_o+(1*np.pi/180.0) #n*np.pi/180, count by n degrees at a time\n",
    "    phi = 0\n",
    "    PT_arr = np.array([])\n",
    "Lo = Lo_arr.reshape(41,2)\n",
    "print(Lo)\n",
    "\n",
    "##Lo Normalization\n",
    "Nval = max(Lo[0:41,1])\n",
    "LoN = Lo[0:41,1]/Nval\n",
    "\n",
    "##Graphing of Normalized Function, Normalized Previous Function, and Fucntion from Paper\n",
    "plt.ylabel(\"Lo/LoMax\")\n",
    "plt.yscale(\"log\")\n",
    "plt.ylim(.0001, 2)\n",
    "plt.xlabel(\"observation angle\")\n",
    "\n",
    "x1 = Lo[0:41,0]\n",
    "y1 = LoN[0:41]\n",
    "plt.plot(x1,y1)\n",
    "\n",
    "#L_o_n = pd.read_csv('L_obs_Norm.csv', sep = ',', header = None, names = ['theta_o','L'])\n",
    "#x2 = L_o_n['theta_o']\n",
    "#y2 = L_o_n['L']\n",
    "#plt.scatter(x2,y2)\n",
    "\n",
    "#L_O_N = pd.read_csv('L-Lobs.csv', sep = ',', header = None, names = ['theta_o','L'])\n",
    "#x3 = L_O_N['theta_o']\n",
    "#y3 = L_O_N['L']\n",
    "#plt.plot(x3,y3)"
   ]
  },
  {
   "cell_type": "markdown",
   "metadata": {},
   "source": []
  }
 ],
 "metadata": {
  "kernelspec": {
   "display_name": "Python 3",
   "language": "python",
   "name": "python3"
  },
  "language_info": {
   "codemirror_mode": {
    "name": "ipython",
    "version": 3
   },
   "file_extension": ".py",
   "mimetype": "text/x-python",
   "name": "python",
   "nbconvert_exporter": "python",
   "pygments_lexer": "ipython3",
   "version": "3.7.6"
  }
 },
 "nbformat": 4,
 "nbformat_minor": 4
}
